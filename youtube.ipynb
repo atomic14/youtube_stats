{
 "cells": [
  {
   "cell_type": "code",
   "execution_count": 29,
   "metadata": {},
   "outputs": [],
   "source": [
    "import os\n",
    "import json\n",
    "from tqdm.notebook import tqdm\n",
    "from pytube import Channel"
   ]
  },
  {
   "cell_type": "code",
   "execution_count": 30,
   "metadata": {},
   "outputs": [],
   "source": [
    "GREAT_SCOTT = \"https://www.youtube.com/channel/UC6mIxFTvXkWQVEHPsEdflzQ\""
   ]
  },
  {
   "cell_type": "code",
   "execution_count": 31,
   "metadata": {},
   "outputs": [],
   "source": [
    "def get_videos(name, channel_url):\n",
    "    # check to see if we've cached this channel already\n",
    "    if os.path.exists(name+\".json\"):\n",
    "        # if we have, load the cache\n",
    "        with open(name, \"r\") as f:\n",
    "            videos = json.load(f)\n",
    "            return videos\n",
    "    channel = Channel(channel_url)\n",
    "    videos = channel.videos\n",
    "    print(\"Extracting data from \"+str(len(videos))+\" videos\")\n",
    "    video_data = [{\n",
    "        \"title\": video.title,\n",
    "        \"thumbnail\": video.thumbnail_url,\n",
    "        \"description\": video.description,\n",
    "        \"publish_date\": video.publish_date,\n",
    "        \"views\": video.views,\n",
    "        \"length\": video.length\n",
    "    } for video in tqdm(videos)]\n",
    "    # cache the results\n",
    "    with open(name+\".json\", \"w\") as f:\n",
    "        json.dump(video_data, f)\n",
    "    return video_data"
   ]
  },
  {
   "cell_type": "code",
   "execution_count": 32,
   "metadata": {},
   "outputs": [
    {
     "name": "stdout",
     "output_type": "stream",
     "text": [
      "Downloading videos - this may take some time for a large channel\n",
      "Downloading video information\n",
      "Extracting data from 384 videos\n"
     ]
    },
    {
     "data": {
      "application/vnd.jupyter.widget-view+json": {
       "model_id": "cd4d49c5dbb84a52b845b7bceef702b5",
       "version_major": 2,
       "version_minor": 0
      },
      "text/plain": [
       "  0%|          | 0/384 [00:00<?, ?it/s]"
      ]
     },
     "metadata": {},
     "output_type": "display_data"
    }
   ],
   "source": [
    "print(\"Downloading videos - this may take some time for a large channel\")\n",
    "videos = get_videos(\"great_scott\", GREAT_SCOTT)"
   ]
  }
 ],
 "metadata": {
  "interpreter": {
   "hash": "7797dd176fe5499e671c85ef3c2bff612e9b5dc9e1d04eb9188c32de0fc8e3b8"
  },
  "kernelspec": {
   "display_name": "Python 3.8.9 ('venv': venv)",
   "language": "python",
   "name": "python3"
  },
  "language_info": {
   "codemirror_mode": {
    "name": "ipython",
    "version": 3
   },
   "file_extension": ".py",
   "mimetype": "text/x-python",
   "name": "python",
   "nbconvert_exporter": "python",
   "pygments_lexer": "ipython3",
   "version": "3.8.9"
  },
  "orig_nbformat": 4
 },
 "nbformat": 4,
 "nbformat_minor": 2
}
